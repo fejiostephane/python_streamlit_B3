{
 "cells": [
  {
   "cell_type": "markdown",
   "id": "7a0caaa5",
   "metadata": {
    "id": "comprehensive-warehouse"
   },
   "source": [
    "# Analyse client"
   ]
  },
  {
   "cell_type": "markdown",
   "id": "b374cc35",
   "metadata": {
    "id": "working-earth"
   },
   "source": [
    "Dans cet exercice guidé, vous allez travailler en tant que Data Analyst pour une société qui souhaite mieux comprendre les comportements d'achat des clients.\n",
    "\n",
    "Vous disposez d'un dataset du site d'ecommerce qui contient 13 features (colonnes) :\n",
    "\n",
    "- order_id : ID de la commande\n",
    "- order_status : Statut de la commande\n",
    "- order_purchase_timestamp : Timestamp de l'achat\n",
    "- order_delivered_customer_date : Timestamp de la livraison au client\n",
    "- payment_type : Methode de paiement\n",
    "- payment_installments : Nombre de paiement\n",
    "- payment_value : La valeur du paiement total\n",
    "- review_score : Le score donné par le client, qui va de 1 à 5\n",
    "- customer_unique_id : ID du client qui a passé commande\n",
    "- customer_zip_code_prefix : Code postal du client\n",
    "- customer_city : Ville du client\n",
    "- customer_state : Etat du client\n",
    "- product_category_name_english : Nom de la catégorie de produit en Anglais\n",
    "\n",
    "Avec ces données, l'idée etant :\n",
    " - De se les approprier\n",
    " - De les explorer\n",
    " - De les traiter et créer des indicateurs pertinents\n",
    " - De les visualiser\n"
   ]
  },
  {
   "cell_type": "markdown",
   "id": "75429188",
   "metadata": {
    "id": "digital-cycling"
   },
   "source": [
    "# Analyse exploratoire"
   ]
  },
  {
   "cell_type": "markdown",
   "id": "c0ab290b",
   "metadata": {
    "id": "9fe4d6d2"
   },
   "source": [
    "Chargez le jeu de données et explorons-le"
   ]
  },
  {
   "cell_type": "code",
   "execution_count": 1,
   "id": "6f9271b1",
   "metadata": {
    "ExecuteTime": {
     "end_time": "2021-10-03T14:07:52.225702Z",
     "start_time": "2021-10-03T14:07:52.135148Z"
    },
    "id": "57a528fd"
   },
   "outputs": [],
   "source": [
    "import pandas as pd"
   ]
  },
  {
   "cell_type": "code",
   "execution_count": 2,
   "id": "d98eb885",
   "metadata": {
    "ExecuteTime": {
     "end_time": "2021-10-03T14:07:52.111600Z",
     "start_time": "2021-10-03T14:07:51.598182Z"
    },
    "id": "1caf4ef5"
   },
   "outputs": [
    {
     "data": {
      "text/html": [
       "<div>\n",
       "<style scoped>\n",
       "    .dataframe tbody tr th:only-of-type {\n",
       "        vertical-align: middle;\n",
       "    }\n",
       "\n",
       "    .dataframe tbody tr th {\n",
       "        vertical-align: top;\n",
       "    }\n",
       "\n",
       "    .dataframe thead th {\n",
       "        text-align: right;\n",
       "    }\n",
       "</style>\n",
       "<table border=\"1\" class=\"dataframe\">\n",
       "  <thead>\n",
       "    <tr style=\"text-align: right;\">\n",
       "      <th></th>\n",
       "      <th>order_id</th>\n",
       "      <th>order_status</th>\n",
       "      <th>order_purchase_timestamp</th>\n",
       "      <th>order_delivered_customer_date</th>\n",
       "      <th>payment_type</th>\n",
       "      <th>payment_installments</th>\n",
       "      <th>payment_value</th>\n",
       "      <th>review_score</th>\n",
       "      <th>customer_unique_id</th>\n",
       "      <th>customer_zip_code_prefix</th>\n",
       "      <th>customer_city</th>\n",
       "      <th>customer_state</th>\n",
       "      <th>product_category_name_english</th>\n",
       "    </tr>\n",
       "  </thead>\n",
       "  <tbody>\n",
       "    <tr>\n",
       "      <th>0</th>\n",
       "      <td>e481f51cbdc54678b7cc49136f2d6af7</td>\n",
       "      <td>delivered</td>\n",
       "      <td>2017-10-02 10:56:33</td>\n",
       "      <td>2017-10-10 21:25:13</td>\n",
       "      <td>credit_card</td>\n",
       "      <td>1.0</td>\n",
       "      <td>18.12</td>\n",
       "      <td>4</td>\n",
       "      <td>7c396fd4830fd04220f754e42b4e5bff</td>\n",
       "      <td>3149</td>\n",
       "      <td>sao paulo</td>\n",
       "      <td>SP</td>\n",
       "      <td>housewares</td>\n",
       "    </tr>\n",
       "    <tr>\n",
       "      <th>1</th>\n",
       "      <td>e481f51cbdc54678b7cc49136f2d6af7</td>\n",
       "      <td>delivered</td>\n",
       "      <td>2017-10-02 10:56:33</td>\n",
       "      <td>2017-10-10 21:25:13</td>\n",
       "      <td>voucher</td>\n",
       "      <td>1.0</td>\n",
       "      <td>2.00</td>\n",
       "      <td>4</td>\n",
       "      <td>7c396fd4830fd04220f754e42b4e5bff</td>\n",
       "      <td>3149</td>\n",
       "      <td>sao paulo</td>\n",
       "      <td>SP</td>\n",
       "      <td>housewares</td>\n",
       "    </tr>\n",
       "    <tr>\n",
       "      <th>2</th>\n",
       "      <td>e481f51cbdc54678b7cc49136f2d6af7</td>\n",
       "      <td>delivered</td>\n",
       "      <td>2017-10-02 10:56:33</td>\n",
       "      <td>2017-10-10 21:25:13</td>\n",
       "      <td>voucher</td>\n",
       "      <td>1.0</td>\n",
       "      <td>18.59</td>\n",
       "      <td>4</td>\n",
       "      <td>7c396fd4830fd04220f754e42b4e5bff</td>\n",
       "      <td>3149</td>\n",
       "      <td>sao paulo</td>\n",
       "      <td>SP</td>\n",
       "      <td>housewares</td>\n",
       "    </tr>\n",
       "    <tr>\n",
       "      <th>3</th>\n",
       "      <td>53cdb2fc8bc7dce0b6741e2150273451</td>\n",
       "      <td>delivered</td>\n",
       "      <td>2018-07-24 20:41:37</td>\n",
       "      <td>2018-08-07 15:27:45</td>\n",
       "      <td>boleto</td>\n",
       "      <td>1.0</td>\n",
       "      <td>141.46</td>\n",
       "      <td>4</td>\n",
       "      <td>af07308b275d755c9edb36a90c618231</td>\n",
       "      <td>47813</td>\n",
       "      <td>barreiras</td>\n",
       "      <td>BA</td>\n",
       "      <td>perfumery</td>\n",
       "    </tr>\n",
       "    <tr>\n",
       "      <th>4</th>\n",
       "      <td>47770eb9100c2d0c44946d9cf07ec65d</td>\n",
       "      <td>delivered</td>\n",
       "      <td>2018-08-08 08:38:49</td>\n",
       "      <td>2018-08-17 18:06:29</td>\n",
       "      <td>credit_card</td>\n",
       "      <td>3.0</td>\n",
       "      <td>179.12</td>\n",
       "      <td>5</td>\n",
       "      <td>3a653a41f6f9fc3d2a113cf8398680e8</td>\n",
       "      <td>75265</td>\n",
       "      <td>vianopolis</td>\n",
       "      <td>GO</td>\n",
       "      <td>auto</td>\n",
       "    </tr>\n",
       "    <tr>\n",
       "      <th>...</th>\n",
       "      <td>...</td>\n",
       "      <td>...</td>\n",
       "      <td>...</td>\n",
       "      <td>...</td>\n",
       "      <td>...</td>\n",
       "      <td>...</td>\n",
       "      <td>...</td>\n",
       "      <td>...</td>\n",
       "      <td>...</td>\n",
       "      <td>...</td>\n",
       "      <td>...</td>\n",
       "      <td>...</td>\n",
       "      <td>...</td>\n",
       "    </tr>\n",
       "    <tr>\n",
       "      <th>105378</th>\n",
       "      <td>9c5dedf39a927c1b2549525ed64a053c</td>\n",
       "      <td>delivered</td>\n",
       "      <td>2017-03-09 09:54:05</td>\n",
       "      <td>2017-03-17 15:08:01</td>\n",
       "      <td>credit_card</td>\n",
       "      <td>3.0</td>\n",
       "      <td>85.08</td>\n",
       "      <td>5</td>\n",
       "      <td>6359f309b166b0196dbf7ad2ac62bb5a</td>\n",
       "      <td>12209</td>\n",
       "      <td>sao jose dos campos</td>\n",
       "      <td>SP</td>\n",
       "      <td>health_beauty</td>\n",
       "    </tr>\n",
       "    <tr>\n",
       "      <th>105379</th>\n",
       "      <td>63943bddc261676b46f01ca7ac2f7bd8</td>\n",
       "      <td>delivered</td>\n",
       "      <td>2018-02-06 12:58:58</td>\n",
       "      <td>2018-02-28 17:37:56</td>\n",
       "      <td>credit_card</td>\n",
       "      <td>3.0</td>\n",
       "      <td>195.00</td>\n",
       "      <td>4</td>\n",
       "      <td>da62f9e57a76d978d02ab5362c509660</td>\n",
       "      <td>11722</td>\n",
       "      <td>praia grande</td>\n",
       "      <td>SP</td>\n",
       "      <td>baby</td>\n",
       "    </tr>\n",
       "    <tr>\n",
       "      <th>105380</th>\n",
       "      <td>83c1379a015df1e13d02aae0204711ab</td>\n",
       "      <td>delivered</td>\n",
       "      <td>2017-08-27 14:46:43</td>\n",
       "      <td>2017-09-21 11:24:17</td>\n",
       "      <td>credit_card</td>\n",
       "      <td>5.0</td>\n",
       "      <td>271.01</td>\n",
       "      <td>5</td>\n",
       "      <td>737520a9aad80b3fbbdad19b66b37b30</td>\n",
       "      <td>45920</td>\n",
       "      <td>nova vicosa</td>\n",
       "      <td>BA</td>\n",
       "      <td>home_appliances_2</td>\n",
       "    </tr>\n",
       "    <tr>\n",
       "      <th>105381</th>\n",
       "      <td>11c177c8e97725db2631073c19f07b62</td>\n",
       "      <td>delivered</td>\n",
       "      <td>2018-01-08 21:28:27</td>\n",
       "      <td>2018-01-25 23:32:54</td>\n",
       "      <td>credit_card</td>\n",
       "      <td>4.0</td>\n",
       "      <td>441.16</td>\n",
       "      <td>2</td>\n",
       "      <td>5097a5312c8b157bb7be58ae360ef43c</td>\n",
       "      <td>28685</td>\n",
       "      <td>japuiba</td>\n",
       "      <td>RJ</td>\n",
       "      <td>computers_accessories</td>\n",
       "    </tr>\n",
       "    <tr>\n",
       "      <th>105382</th>\n",
       "      <td>66dea50a8b16d9b4dee7af250b4be1a5</td>\n",
       "      <td>delivered</td>\n",
       "      <td>2018-03-08 20:57:30</td>\n",
       "      <td>2018-03-16 13:08:30</td>\n",
       "      <td>debit_card</td>\n",
       "      <td>1.0</td>\n",
       "      <td>86.86</td>\n",
       "      <td>5</td>\n",
       "      <td>60350aa974b26ff12caad89e55993bd6</td>\n",
       "      <td>83750</td>\n",
       "      <td>lapa</td>\n",
       "      <td>PR</td>\n",
       "      <td>health_beauty</td>\n",
       "    </tr>\n",
       "  </tbody>\n",
       "</table>\n",
       "<p>105383 rows × 13 columns</p>\n",
       "</div>"
      ],
      "text/plain": [
       "                                order_id order_status  \\\n",
       "0       e481f51cbdc54678b7cc49136f2d6af7    delivered   \n",
       "1       e481f51cbdc54678b7cc49136f2d6af7    delivered   \n",
       "2       e481f51cbdc54678b7cc49136f2d6af7    delivered   \n",
       "3       53cdb2fc8bc7dce0b6741e2150273451    delivered   \n",
       "4       47770eb9100c2d0c44946d9cf07ec65d    delivered   \n",
       "...                                  ...          ...   \n",
       "105378  9c5dedf39a927c1b2549525ed64a053c    delivered   \n",
       "105379  63943bddc261676b46f01ca7ac2f7bd8    delivered   \n",
       "105380  83c1379a015df1e13d02aae0204711ab    delivered   \n",
       "105381  11c177c8e97725db2631073c19f07b62    delivered   \n",
       "105382  66dea50a8b16d9b4dee7af250b4be1a5    delivered   \n",
       "\n",
       "       order_purchase_timestamp order_delivered_customer_date payment_type  \\\n",
       "0           2017-10-02 10:56:33           2017-10-10 21:25:13  credit_card   \n",
       "1           2017-10-02 10:56:33           2017-10-10 21:25:13      voucher   \n",
       "2           2017-10-02 10:56:33           2017-10-10 21:25:13      voucher   \n",
       "3           2018-07-24 20:41:37           2018-08-07 15:27:45       boleto   \n",
       "4           2018-08-08 08:38:49           2018-08-17 18:06:29  credit_card   \n",
       "...                         ...                           ...          ...   \n",
       "105378      2017-03-09 09:54:05           2017-03-17 15:08:01  credit_card   \n",
       "105379      2018-02-06 12:58:58           2018-02-28 17:37:56  credit_card   \n",
       "105380      2017-08-27 14:46:43           2017-09-21 11:24:17  credit_card   \n",
       "105381      2018-01-08 21:28:27           2018-01-25 23:32:54  credit_card   \n",
       "105382      2018-03-08 20:57:30           2018-03-16 13:08:30   debit_card   \n",
       "\n",
       "        payment_installments  payment_value  review_score  \\\n",
       "0                        1.0          18.12             4   \n",
       "1                        1.0           2.00             4   \n",
       "2                        1.0          18.59             4   \n",
       "3                        1.0         141.46             4   \n",
       "4                        3.0         179.12             5   \n",
       "...                      ...            ...           ...   \n",
       "105378                   3.0          85.08             5   \n",
       "105379                   3.0         195.00             4   \n",
       "105380                   5.0         271.01             5   \n",
       "105381                   4.0         441.16             2   \n",
       "105382                   1.0          86.86             5   \n",
       "\n",
       "                      customer_unique_id  customer_zip_code_prefix  \\\n",
       "0       7c396fd4830fd04220f754e42b4e5bff                      3149   \n",
       "1       7c396fd4830fd04220f754e42b4e5bff                      3149   \n",
       "2       7c396fd4830fd04220f754e42b4e5bff                      3149   \n",
       "3       af07308b275d755c9edb36a90c618231                     47813   \n",
       "4       3a653a41f6f9fc3d2a113cf8398680e8                     75265   \n",
       "...                                  ...                       ...   \n",
       "105378  6359f309b166b0196dbf7ad2ac62bb5a                     12209   \n",
       "105379  da62f9e57a76d978d02ab5362c509660                     11722   \n",
       "105380  737520a9aad80b3fbbdad19b66b37b30                     45920   \n",
       "105381  5097a5312c8b157bb7be58ae360ef43c                     28685   \n",
       "105382  60350aa974b26ff12caad89e55993bd6                     83750   \n",
       "\n",
       "              customer_city customer_state product_category_name_english  \n",
       "0                 sao paulo             SP                    housewares  \n",
       "1                 sao paulo             SP                    housewares  \n",
       "2                 sao paulo             SP                    housewares  \n",
       "3                 barreiras             BA                     perfumery  \n",
       "4                vianopolis             GO                          auto  \n",
       "...                     ...            ...                           ...  \n",
       "105378  sao jose dos campos             SP                 health_beauty  \n",
       "105379         praia grande             SP                          baby  \n",
       "105380          nova vicosa             BA             home_appliances_2  \n",
       "105381              japuiba             RJ         computers_accessories  \n",
       "105382                 lapa             PR                 health_beauty  \n",
       "\n",
       "[105383 rows x 13 columns]"
      ]
     },
     "execution_count": 2,
     "metadata": {},
     "output_type": "execute_result"
    }
   ],
   "source": [
    "df = pd.read_csv('db_customers.csv')\n",
    "df"
   ]
  },
  {
   "cell_type": "markdown",
   "id": "967fe5ee",
   "metadata": {
    "id": "7a1219f8"
   },
   "source": [
    "❓ Quelles features peuvent être converties en datetime ? \n",
    "Convertissez-les en suivant l'exemple ci-dessous"
   ]
  },
  {
   "cell_type": "code",
   "execution_count": 7,
   "id": "b7040fab",
   "metadata": {},
   "outputs": [],
   "source": [
    "df['order_purchase_timestamp'] = pd.to_datetime(df['order_purchase_timestamp']).dt.date"
   ]
  },
  {
   "cell_type": "code",
   "execution_count": 8,
   "id": "001066ec",
   "metadata": {},
   "outputs": [],
   "source": [
    "df['order_delivered_customer_date'] = pd.to_datetime(df['order_delivered_customer_date']).dt.date"
   ]
  },
  {
   "cell_type": "code",
   "execution_count": 9,
   "id": "a03a9e6d",
   "metadata": {},
   "outputs": [
    {
     "data": {
      "text/html": [
       "<div>\n",
       "<style scoped>\n",
       "    .dataframe tbody tr th:only-of-type {\n",
       "        vertical-align: middle;\n",
       "    }\n",
       "\n",
       "    .dataframe tbody tr th {\n",
       "        vertical-align: top;\n",
       "    }\n",
       "\n",
       "    .dataframe thead th {\n",
       "        text-align: right;\n",
       "    }\n",
       "</style>\n",
       "<table border=\"1\" class=\"dataframe\">\n",
       "  <thead>\n",
       "    <tr style=\"text-align: right;\">\n",
       "      <th></th>\n",
       "      <th>order_id</th>\n",
       "      <th>order_status</th>\n",
       "      <th>order_purchase_timestamp</th>\n",
       "      <th>order_delivered_customer_date</th>\n",
       "      <th>payment_type</th>\n",
       "      <th>payment_installments</th>\n",
       "      <th>payment_value</th>\n",
       "      <th>review_score</th>\n",
       "      <th>customer_unique_id</th>\n",
       "      <th>customer_zip_code_prefix</th>\n",
       "      <th>customer_city</th>\n",
       "      <th>customer_state</th>\n",
       "      <th>product_category_name_english</th>\n",
       "    </tr>\n",
       "  </thead>\n",
       "  <tbody>\n",
       "    <tr>\n",
       "      <th>0</th>\n",
       "      <td>e481f51cbdc54678b7cc49136f2d6af7</td>\n",
       "      <td>delivered</td>\n",
       "      <td>2017-10-02</td>\n",
       "      <td>2017-10-10</td>\n",
       "      <td>credit_card</td>\n",
       "      <td>1.0</td>\n",
       "      <td>18.12</td>\n",
       "      <td>4</td>\n",
       "      <td>7c396fd4830fd04220f754e42b4e5bff</td>\n",
       "      <td>3149</td>\n",
       "      <td>sao paulo</td>\n",
       "      <td>SP</td>\n",
       "      <td>housewares</td>\n",
       "    </tr>\n",
       "    <tr>\n",
       "      <th>1</th>\n",
       "      <td>e481f51cbdc54678b7cc49136f2d6af7</td>\n",
       "      <td>delivered</td>\n",
       "      <td>2017-10-02</td>\n",
       "      <td>2017-10-10</td>\n",
       "      <td>voucher</td>\n",
       "      <td>1.0</td>\n",
       "      <td>2.00</td>\n",
       "      <td>4</td>\n",
       "      <td>7c396fd4830fd04220f754e42b4e5bff</td>\n",
       "      <td>3149</td>\n",
       "      <td>sao paulo</td>\n",
       "      <td>SP</td>\n",
       "      <td>housewares</td>\n",
       "    </tr>\n",
       "    <tr>\n",
       "      <th>2</th>\n",
       "      <td>e481f51cbdc54678b7cc49136f2d6af7</td>\n",
       "      <td>delivered</td>\n",
       "      <td>2017-10-02</td>\n",
       "      <td>2017-10-10</td>\n",
       "      <td>voucher</td>\n",
       "      <td>1.0</td>\n",
       "      <td>18.59</td>\n",
       "      <td>4</td>\n",
       "      <td>7c396fd4830fd04220f754e42b4e5bff</td>\n",
       "      <td>3149</td>\n",
       "      <td>sao paulo</td>\n",
       "      <td>SP</td>\n",
       "      <td>housewares</td>\n",
       "    </tr>\n",
       "    <tr>\n",
       "      <th>3</th>\n",
       "      <td>53cdb2fc8bc7dce0b6741e2150273451</td>\n",
       "      <td>delivered</td>\n",
       "      <td>2018-07-24</td>\n",
       "      <td>2018-08-07</td>\n",
       "      <td>boleto</td>\n",
       "      <td>1.0</td>\n",
       "      <td>141.46</td>\n",
       "      <td>4</td>\n",
       "      <td>af07308b275d755c9edb36a90c618231</td>\n",
       "      <td>47813</td>\n",
       "      <td>barreiras</td>\n",
       "      <td>BA</td>\n",
       "      <td>perfumery</td>\n",
       "    </tr>\n",
       "    <tr>\n",
       "      <th>4</th>\n",
       "      <td>47770eb9100c2d0c44946d9cf07ec65d</td>\n",
       "      <td>delivered</td>\n",
       "      <td>2018-08-08</td>\n",
       "      <td>2018-08-17</td>\n",
       "      <td>credit_card</td>\n",
       "      <td>3.0</td>\n",
       "      <td>179.12</td>\n",
       "      <td>5</td>\n",
       "      <td>3a653a41f6f9fc3d2a113cf8398680e8</td>\n",
       "      <td>75265</td>\n",
       "      <td>vianopolis</td>\n",
       "      <td>GO</td>\n",
       "      <td>auto</td>\n",
       "    </tr>\n",
       "    <tr>\n",
       "      <th>...</th>\n",
       "      <td>...</td>\n",
       "      <td>...</td>\n",
       "      <td>...</td>\n",
       "      <td>...</td>\n",
       "      <td>...</td>\n",
       "      <td>...</td>\n",
       "      <td>...</td>\n",
       "      <td>...</td>\n",
       "      <td>...</td>\n",
       "      <td>...</td>\n",
       "      <td>...</td>\n",
       "      <td>...</td>\n",
       "      <td>...</td>\n",
       "    </tr>\n",
       "    <tr>\n",
       "      <th>105378</th>\n",
       "      <td>9c5dedf39a927c1b2549525ed64a053c</td>\n",
       "      <td>delivered</td>\n",
       "      <td>2017-03-09</td>\n",
       "      <td>2017-03-17</td>\n",
       "      <td>credit_card</td>\n",
       "      <td>3.0</td>\n",
       "      <td>85.08</td>\n",
       "      <td>5</td>\n",
       "      <td>6359f309b166b0196dbf7ad2ac62bb5a</td>\n",
       "      <td>12209</td>\n",
       "      <td>sao jose dos campos</td>\n",
       "      <td>SP</td>\n",
       "      <td>health_beauty</td>\n",
       "    </tr>\n",
       "    <tr>\n",
       "      <th>105379</th>\n",
       "      <td>63943bddc261676b46f01ca7ac2f7bd8</td>\n",
       "      <td>delivered</td>\n",
       "      <td>2018-02-06</td>\n",
       "      <td>2018-02-28</td>\n",
       "      <td>credit_card</td>\n",
       "      <td>3.0</td>\n",
       "      <td>195.00</td>\n",
       "      <td>4</td>\n",
       "      <td>da62f9e57a76d978d02ab5362c509660</td>\n",
       "      <td>11722</td>\n",
       "      <td>praia grande</td>\n",
       "      <td>SP</td>\n",
       "      <td>baby</td>\n",
       "    </tr>\n",
       "    <tr>\n",
       "      <th>105380</th>\n",
       "      <td>83c1379a015df1e13d02aae0204711ab</td>\n",
       "      <td>delivered</td>\n",
       "      <td>2017-08-27</td>\n",
       "      <td>2017-09-21</td>\n",
       "      <td>credit_card</td>\n",
       "      <td>5.0</td>\n",
       "      <td>271.01</td>\n",
       "      <td>5</td>\n",
       "      <td>737520a9aad80b3fbbdad19b66b37b30</td>\n",
       "      <td>45920</td>\n",
       "      <td>nova vicosa</td>\n",
       "      <td>BA</td>\n",
       "      <td>home_appliances_2</td>\n",
       "    </tr>\n",
       "    <tr>\n",
       "      <th>105381</th>\n",
       "      <td>11c177c8e97725db2631073c19f07b62</td>\n",
       "      <td>delivered</td>\n",
       "      <td>2018-01-08</td>\n",
       "      <td>2018-01-25</td>\n",
       "      <td>credit_card</td>\n",
       "      <td>4.0</td>\n",
       "      <td>441.16</td>\n",
       "      <td>2</td>\n",
       "      <td>5097a5312c8b157bb7be58ae360ef43c</td>\n",
       "      <td>28685</td>\n",
       "      <td>japuiba</td>\n",
       "      <td>RJ</td>\n",
       "      <td>computers_accessories</td>\n",
       "    </tr>\n",
       "    <tr>\n",
       "      <th>105382</th>\n",
       "      <td>66dea50a8b16d9b4dee7af250b4be1a5</td>\n",
       "      <td>delivered</td>\n",
       "      <td>2018-03-08</td>\n",
       "      <td>2018-03-16</td>\n",
       "      <td>debit_card</td>\n",
       "      <td>1.0</td>\n",
       "      <td>86.86</td>\n",
       "      <td>5</td>\n",
       "      <td>60350aa974b26ff12caad89e55993bd6</td>\n",
       "      <td>83750</td>\n",
       "      <td>lapa</td>\n",
       "      <td>PR</td>\n",
       "      <td>health_beauty</td>\n",
       "    </tr>\n",
       "  </tbody>\n",
       "</table>\n",
       "<p>105383 rows × 13 columns</p>\n",
       "</div>"
      ],
      "text/plain": [
       "                                order_id order_status  \\\n",
       "0       e481f51cbdc54678b7cc49136f2d6af7    delivered   \n",
       "1       e481f51cbdc54678b7cc49136f2d6af7    delivered   \n",
       "2       e481f51cbdc54678b7cc49136f2d6af7    delivered   \n",
       "3       53cdb2fc8bc7dce0b6741e2150273451    delivered   \n",
       "4       47770eb9100c2d0c44946d9cf07ec65d    delivered   \n",
       "...                                  ...          ...   \n",
       "105378  9c5dedf39a927c1b2549525ed64a053c    delivered   \n",
       "105379  63943bddc261676b46f01ca7ac2f7bd8    delivered   \n",
       "105380  83c1379a015df1e13d02aae0204711ab    delivered   \n",
       "105381  11c177c8e97725db2631073c19f07b62    delivered   \n",
       "105382  66dea50a8b16d9b4dee7af250b4be1a5    delivered   \n",
       "\n",
       "       order_purchase_timestamp order_delivered_customer_date payment_type  \\\n",
       "0                    2017-10-02                    2017-10-10  credit_card   \n",
       "1                    2017-10-02                    2017-10-10      voucher   \n",
       "2                    2017-10-02                    2017-10-10      voucher   \n",
       "3                    2018-07-24                    2018-08-07       boleto   \n",
       "4                    2018-08-08                    2018-08-17  credit_card   \n",
       "...                         ...                           ...          ...   \n",
       "105378               2017-03-09                    2017-03-17  credit_card   \n",
       "105379               2018-02-06                    2018-02-28  credit_card   \n",
       "105380               2017-08-27                    2017-09-21  credit_card   \n",
       "105381               2018-01-08                    2018-01-25  credit_card   \n",
       "105382               2018-03-08                    2018-03-16   debit_card   \n",
       "\n",
       "        payment_installments  payment_value  review_score  \\\n",
       "0                        1.0          18.12             4   \n",
       "1                        1.0           2.00             4   \n",
       "2                        1.0          18.59             4   \n",
       "3                        1.0         141.46             4   \n",
       "4                        3.0         179.12             5   \n",
       "...                      ...            ...           ...   \n",
       "105378                   3.0          85.08             5   \n",
       "105379                   3.0         195.00             4   \n",
       "105380                   5.0         271.01             5   \n",
       "105381                   4.0         441.16             2   \n",
       "105382                   1.0          86.86             5   \n",
       "\n",
       "                      customer_unique_id  customer_zip_code_prefix  \\\n",
       "0       7c396fd4830fd04220f754e42b4e5bff                      3149   \n",
       "1       7c396fd4830fd04220f754e42b4e5bff                      3149   \n",
       "2       7c396fd4830fd04220f754e42b4e5bff                      3149   \n",
       "3       af07308b275d755c9edb36a90c618231                     47813   \n",
       "4       3a653a41f6f9fc3d2a113cf8398680e8                     75265   \n",
       "...                                  ...                       ...   \n",
       "105378  6359f309b166b0196dbf7ad2ac62bb5a                     12209   \n",
       "105379  da62f9e57a76d978d02ab5362c509660                     11722   \n",
       "105380  737520a9aad80b3fbbdad19b66b37b30                     45920   \n",
       "105381  5097a5312c8b157bb7be58ae360ef43c                     28685   \n",
       "105382  60350aa974b26ff12caad89e55993bd6                     83750   \n",
       "\n",
       "              customer_city customer_state product_category_name_english  \n",
       "0                 sao paulo             SP                    housewares  \n",
       "1                 sao paulo             SP                    housewares  \n",
       "2                 sao paulo             SP                    housewares  \n",
       "3                 barreiras             BA                     perfumery  \n",
       "4                vianopolis             GO                          auto  \n",
       "...                     ...            ...                           ...  \n",
       "105378  sao jose dos campos             SP                 health_beauty  \n",
       "105379         praia grande             SP                          baby  \n",
       "105380          nova vicosa             BA             home_appliances_2  \n",
       "105381              japuiba             RJ         computers_accessories  \n",
       "105382                 lapa             PR                 health_beauty  \n",
       "\n",
       "[105383 rows x 13 columns]"
      ]
     },
     "execution_count": 9,
     "metadata": {},
     "output_type": "execute_result"
    }
   ],
   "source": [
    "df"
   ]
  },
  {
   "cell_type": "markdown",
   "id": "bc6bd029",
   "metadata": {
    "id": "b51c5e36"
   },
   "source": [
    "❓ Quelles features peuvent être converties en catégorie ? \n",
    "Convertissez-les"
   ]
  },
  {
   "cell_type": "code",
   "execution_count": 10,
   "id": "881f280d",
   "metadata": {
    "id": "4f134505"
   },
   "outputs": [],
   "source": [
    "#les features qui peuvent être convertis en catégorie sont les suivants : customer_city,customer_state,product_category_name_english,customer_unique_id\n",
    "#payment_type,order_status,order_id,"
   ]
  },
  {
   "cell_type": "markdown",
   "id": "070e7b4a",
   "metadata": {
    "id": "ea7199d9"
   },
   "source": [
    "❓ Regardez les valeurs manquantes? Que remarquez-vous ?"
   ]
  },
  {
   "cell_type": "code",
   "execution_count": 16,
   "id": "f88bff61",
   "metadata": {
    "id": "19eef9bd"
   },
   "outputs": [
    {
     "data": {
      "text/plain": [
       "order_id                            0\n",
       "order_status                        0\n",
       "order_purchase_timestamp            0\n",
       "order_delivered_customer_date    3159\n",
       "payment_type                        1\n",
       "payment_installments                1\n",
       "payment_value                       1\n",
       "review_score                        0\n",
       "customer_unique_id                  0\n",
       "customer_zip_code_prefix            0\n",
       "customer_city                       0\n",
       "customer_state                      0\n",
       "product_category_name_english    2410\n",
       "dtype: int64"
      ]
     },
     "execution_count": 16,
     "metadata": {},
     "output_type": "execute_result"
    }
   ],
   "source": [
    "import numpy as np\n",
    "df.isna().sum()"
   ]
  },
  {
   "cell_type": "code",
   "execution_count": 18,
   "id": "f81b569e",
   "metadata": {},
   "outputs": [],
   "source": [
    "# je remarque que les colonnes suivantes ont les valeurs manquantes : order_delivered_customer_date , product_category_name_english , payment_type, payment_value, payment_installments"
   ]
  },
  {
   "cell_type": "markdown",
   "id": "fb205036",
   "metadata": {
    "id": "c20dae84"
   },
   "source": [
    "❓ Pouvez-vous trouver une explication pour les valeurs manquantes dans la colonne `order_delivered_customer_date` ? \n",
    "(indice : regardez les livraisons non livrées)"
   ]
  },
  {
   "cell_type": "code",
   "execution_count": 22,
   "id": "56450de3",
   "metadata": {},
   "outputs": [
    {
     "data": {
      "text/plain": [
       "array(['delivered', 'invoiced', 'shipped', 'processing', 'unavailable',\n",
       "       'canceled', 'created', 'approved'], dtype=object)"
      ]
     },
     "execution_count": 22,
     "metadata": {},
     "output_type": "execute_result"
    }
   ],
   "source": [
    "df['order_status'].unique()\n"
   ]
  },
  {
   "cell_type": "code",
   "execution_count": 23,
   "id": "94fed19c",
   "metadata": {
    "id": "1e298334"
   },
   "outputs": [],
   "source": [
    "# je remarque que au niveau de la colones order_delivered_customer_date il y'a 3159 valeurs manquantes parce que le status de la colones order status est a indisponible"
   ]
  },
  {
   "cell_type": "markdown",
   "id": "6c519820",
   "metadata": {
    "id": "8fda8f88"
   },
   "source": [
    "❓ Quelle est la proportion pour chacune des valeurs de la colonne `order_status` ? (indice : aidez-vous de value_counts() )"
   ]
  },
  {
   "cell_type": "code",
   "execution_count": 25,
   "id": "9c017e96",
   "metadata": {
    "id": "fbf2835b"
   },
   "outputs": [
    {
     "data": {
      "text/plain": [
       "order_status\n",
       "delivered      102225\n",
       "shipped          1180\n",
       "canceled          669\n",
       "unavailable       651\n",
       "invoiced          330\n",
       "processing        321\n",
       "created             5\n",
       "approved            2\n",
       "Name: count, dtype: int64"
      ]
     },
     "execution_count": 25,
     "metadata": {},
     "output_type": "execute_result"
    }
   ],
   "source": [
    "df['order_status'].value_counts()"
   ]
  },
  {
   "cell_type": "markdown",
   "id": "b0aa3085",
   "metadata": {
    "id": "ec529161"
   },
   "source": [
    "❓ Quelle(s) valeur(s) de la colonne `order_status` devrai(en)t être supprimée(s) du jeu de données? Faites-le."
   ]
  },
  {
   "cell_type": "code",
   "execution_count": 26,
   "id": "fef56429",
   "metadata": {
    "id": "08091a60"
   },
   "outputs": [],
   "source": [
    "df_filtered = df[df['order_status'] == 'delivered']"
   ]
  },
  {
   "cell_type": "code",
   "execution_count": 27,
   "id": "90c4565a",
   "metadata": {},
   "outputs": [
    {
     "data": {
      "text/plain": [
       "order_status\n",
       "delivered    102225\n",
       "Name: count, dtype: int64"
      ]
     },
     "execution_count": 27,
     "metadata": {},
     "output_type": "execute_result"
    }
   ],
   "source": [
    "df_filtered['order_status'].value_counts()"
   ]
  },
  {
   "cell_type": "code",
   "execution_count": 28,
   "id": "7476d9aa",
   "metadata": {},
   "outputs": [
    {
     "data": {
      "text/html": [
       "<div>\n",
       "<style scoped>\n",
       "    .dataframe tbody tr th:only-of-type {\n",
       "        vertical-align: middle;\n",
       "    }\n",
       "\n",
       "    .dataframe tbody tr th {\n",
       "        vertical-align: top;\n",
       "    }\n",
       "\n",
       "    .dataframe thead th {\n",
       "        text-align: right;\n",
       "    }\n",
       "</style>\n",
       "<table border=\"1\" class=\"dataframe\">\n",
       "  <thead>\n",
       "    <tr style=\"text-align: right;\">\n",
       "      <th></th>\n",
       "      <th>order_id</th>\n",
       "      <th>order_status</th>\n",
       "      <th>order_purchase_timestamp</th>\n",
       "      <th>order_delivered_customer_date</th>\n",
       "      <th>payment_type</th>\n",
       "      <th>payment_installments</th>\n",
       "      <th>payment_value</th>\n",
       "      <th>review_score</th>\n",
       "      <th>customer_unique_id</th>\n",
       "      <th>customer_zip_code_prefix</th>\n",
       "      <th>customer_city</th>\n",
       "      <th>customer_state</th>\n",
       "      <th>product_category_name_english</th>\n",
       "    </tr>\n",
       "  </thead>\n",
       "  <tbody>\n",
       "    <tr>\n",
       "      <th>0</th>\n",
       "      <td>e481f51cbdc54678b7cc49136f2d6af7</td>\n",
       "      <td>delivered</td>\n",
       "      <td>2017-10-02</td>\n",
       "      <td>2017-10-10</td>\n",
       "      <td>credit_card</td>\n",
       "      <td>1.0</td>\n",
       "      <td>18.12</td>\n",
       "      <td>4</td>\n",
       "      <td>7c396fd4830fd04220f754e42b4e5bff</td>\n",
       "      <td>3149</td>\n",
       "      <td>sao paulo</td>\n",
       "      <td>SP</td>\n",
       "      <td>housewares</td>\n",
       "    </tr>\n",
       "    <tr>\n",
       "      <th>1</th>\n",
       "      <td>e481f51cbdc54678b7cc49136f2d6af7</td>\n",
       "      <td>delivered</td>\n",
       "      <td>2017-10-02</td>\n",
       "      <td>2017-10-10</td>\n",
       "      <td>voucher</td>\n",
       "      <td>1.0</td>\n",
       "      <td>2.00</td>\n",
       "      <td>4</td>\n",
       "      <td>7c396fd4830fd04220f754e42b4e5bff</td>\n",
       "      <td>3149</td>\n",
       "      <td>sao paulo</td>\n",
       "      <td>SP</td>\n",
       "      <td>housewares</td>\n",
       "    </tr>\n",
       "    <tr>\n",
       "      <th>2</th>\n",
       "      <td>e481f51cbdc54678b7cc49136f2d6af7</td>\n",
       "      <td>delivered</td>\n",
       "      <td>2017-10-02</td>\n",
       "      <td>2017-10-10</td>\n",
       "      <td>voucher</td>\n",
       "      <td>1.0</td>\n",
       "      <td>18.59</td>\n",
       "      <td>4</td>\n",
       "      <td>7c396fd4830fd04220f754e42b4e5bff</td>\n",
       "      <td>3149</td>\n",
       "      <td>sao paulo</td>\n",
       "      <td>SP</td>\n",
       "      <td>housewares</td>\n",
       "    </tr>\n",
       "    <tr>\n",
       "      <th>3</th>\n",
       "      <td>53cdb2fc8bc7dce0b6741e2150273451</td>\n",
       "      <td>delivered</td>\n",
       "      <td>2018-07-24</td>\n",
       "      <td>2018-08-07</td>\n",
       "      <td>boleto</td>\n",
       "      <td>1.0</td>\n",
       "      <td>141.46</td>\n",
       "      <td>4</td>\n",
       "      <td>af07308b275d755c9edb36a90c618231</td>\n",
       "      <td>47813</td>\n",
       "      <td>barreiras</td>\n",
       "      <td>BA</td>\n",
       "      <td>perfumery</td>\n",
       "    </tr>\n",
       "    <tr>\n",
       "      <th>4</th>\n",
       "      <td>47770eb9100c2d0c44946d9cf07ec65d</td>\n",
       "      <td>delivered</td>\n",
       "      <td>2018-08-08</td>\n",
       "      <td>2018-08-17</td>\n",
       "      <td>credit_card</td>\n",
       "      <td>3.0</td>\n",
       "      <td>179.12</td>\n",
       "      <td>5</td>\n",
       "      <td>3a653a41f6f9fc3d2a113cf8398680e8</td>\n",
       "      <td>75265</td>\n",
       "      <td>vianopolis</td>\n",
       "      <td>GO</td>\n",
       "      <td>auto</td>\n",
       "    </tr>\n",
       "    <tr>\n",
       "      <th>...</th>\n",
       "      <td>...</td>\n",
       "      <td>...</td>\n",
       "      <td>...</td>\n",
       "      <td>...</td>\n",
       "      <td>...</td>\n",
       "      <td>...</td>\n",
       "      <td>...</td>\n",
       "      <td>...</td>\n",
       "      <td>...</td>\n",
       "      <td>...</td>\n",
       "      <td>...</td>\n",
       "      <td>...</td>\n",
       "      <td>...</td>\n",
       "    </tr>\n",
       "    <tr>\n",
       "      <th>105378</th>\n",
       "      <td>9c5dedf39a927c1b2549525ed64a053c</td>\n",
       "      <td>delivered</td>\n",
       "      <td>2017-03-09</td>\n",
       "      <td>2017-03-17</td>\n",
       "      <td>credit_card</td>\n",
       "      <td>3.0</td>\n",
       "      <td>85.08</td>\n",
       "      <td>5</td>\n",
       "      <td>6359f309b166b0196dbf7ad2ac62bb5a</td>\n",
       "      <td>12209</td>\n",
       "      <td>sao jose dos campos</td>\n",
       "      <td>SP</td>\n",
       "      <td>health_beauty</td>\n",
       "    </tr>\n",
       "    <tr>\n",
       "      <th>105379</th>\n",
       "      <td>63943bddc261676b46f01ca7ac2f7bd8</td>\n",
       "      <td>delivered</td>\n",
       "      <td>2018-02-06</td>\n",
       "      <td>2018-02-28</td>\n",
       "      <td>credit_card</td>\n",
       "      <td>3.0</td>\n",
       "      <td>195.00</td>\n",
       "      <td>4</td>\n",
       "      <td>da62f9e57a76d978d02ab5362c509660</td>\n",
       "      <td>11722</td>\n",
       "      <td>praia grande</td>\n",
       "      <td>SP</td>\n",
       "      <td>baby</td>\n",
       "    </tr>\n",
       "    <tr>\n",
       "      <th>105380</th>\n",
       "      <td>83c1379a015df1e13d02aae0204711ab</td>\n",
       "      <td>delivered</td>\n",
       "      <td>2017-08-27</td>\n",
       "      <td>2017-09-21</td>\n",
       "      <td>credit_card</td>\n",
       "      <td>5.0</td>\n",
       "      <td>271.01</td>\n",
       "      <td>5</td>\n",
       "      <td>737520a9aad80b3fbbdad19b66b37b30</td>\n",
       "      <td>45920</td>\n",
       "      <td>nova vicosa</td>\n",
       "      <td>BA</td>\n",
       "      <td>home_appliances_2</td>\n",
       "    </tr>\n",
       "    <tr>\n",
       "      <th>105381</th>\n",
       "      <td>11c177c8e97725db2631073c19f07b62</td>\n",
       "      <td>delivered</td>\n",
       "      <td>2018-01-08</td>\n",
       "      <td>2018-01-25</td>\n",
       "      <td>credit_card</td>\n",
       "      <td>4.0</td>\n",
       "      <td>441.16</td>\n",
       "      <td>2</td>\n",
       "      <td>5097a5312c8b157bb7be58ae360ef43c</td>\n",
       "      <td>28685</td>\n",
       "      <td>japuiba</td>\n",
       "      <td>RJ</td>\n",
       "      <td>computers_accessories</td>\n",
       "    </tr>\n",
       "    <tr>\n",
       "      <th>105382</th>\n",
       "      <td>66dea50a8b16d9b4dee7af250b4be1a5</td>\n",
       "      <td>delivered</td>\n",
       "      <td>2018-03-08</td>\n",
       "      <td>2018-03-16</td>\n",
       "      <td>debit_card</td>\n",
       "      <td>1.0</td>\n",
       "      <td>86.86</td>\n",
       "      <td>5</td>\n",
       "      <td>60350aa974b26ff12caad89e55993bd6</td>\n",
       "      <td>83750</td>\n",
       "      <td>lapa</td>\n",
       "      <td>PR</td>\n",
       "      <td>health_beauty</td>\n",
       "    </tr>\n",
       "  </tbody>\n",
       "</table>\n",
       "<p>102225 rows × 13 columns</p>\n",
       "</div>"
      ],
      "text/plain": [
       "                                order_id order_status  \\\n",
       "0       e481f51cbdc54678b7cc49136f2d6af7    delivered   \n",
       "1       e481f51cbdc54678b7cc49136f2d6af7    delivered   \n",
       "2       e481f51cbdc54678b7cc49136f2d6af7    delivered   \n",
       "3       53cdb2fc8bc7dce0b6741e2150273451    delivered   \n",
       "4       47770eb9100c2d0c44946d9cf07ec65d    delivered   \n",
       "...                                  ...          ...   \n",
       "105378  9c5dedf39a927c1b2549525ed64a053c    delivered   \n",
       "105379  63943bddc261676b46f01ca7ac2f7bd8    delivered   \n",
       "105380  83c1379a015df1e13d02aae0204711ab    delivered   \n",
       "105381  11c177c8e97725db2631073c19f07b62    delivered   \n",
       "105382  66dea50a8b16d9b4dee7af250b4be1a5    delivered   \n",
       "\n",
       "       order_purchase_timestamp order_delivered_customer_date payment_type  \\\n",
       "0                    2017-10-02                    2017-10-10  credit_card   \n",
       "1                    2017-10-02                    2017-10-10      voucher   \n",
       "2                    2017-10-02                    2017-10-10      voucher   \n",
       "3                    2018-07-24                    2018-08-07       boleto   \n",
       "4                    2018-08-08                    2018-08-17  credit_card   \n",
       "...                         ...                           ...          ...   \n",
       "105378               2017-03-09                    2017-03-17  credit_card   \n",
       "105379               2018-02-06                    2018-02-28  credit_card   \n",
       "105380               2017-08-27                    2017-09-21  credit_card   \n",
       "105381               2018-01-08                    2018-01-25  credit_card   \n",
       "105382               2018-03-08                    2018-03-16   debit_card   \n",
       "\n",
       "        payment_installments  payment_value  review_score  \\\n",
       "0                        1.0          18.12             4   \n",
       "1                        1.0           2.00             4   \n",
       "2                        1.0          18.59             4   \n",
       "3                        1.0         141.46             4   \n",
       "4                        3.0         179.12             5   \n",
       "...                      ...            ...           ...   \n",
       "105378                   3.0          85.08             5   \n",
       "105379                   3.0         195.00             4   \n",
       "105380                   5.0         271.01             5   \n",
       "105381                   4.0         441.16             2   \n",
       "105382                   1.0          86.86             5   \n",
       "\n",
       "                      customer_unique_id  customer_zip_code_prefix  \\\n",
       "0       7c396fd4830fd04220f754e42b4e5bff                      3149   \n",
       "1       7c396fd4830fd04220f754e42b4e5bff                      3149   \n",
       "2       7c396fd4830fd04220f754e42b4e5bff                      3149   \n",
       "3       af07308b275d755c9edb36a90c618231                     47813   \n",
       "4       3a653a41f6f9fc3d2a113cf8398680e8                     75265   \n",
       "...                                  ...                       ...   \n",
       "105378  6359f309b166b0196dbf7ad2ac62bb5a                     12209   \n",
       "105379  da62f9e57a76d978d02ab5362c509660                     11722   \n",
       "105380  737520a9aad80b3fbbdad19b66b37b30                     45920   \n",
       "105381  5097a5312c8b157bb7be58ae360ef43c                     28685   \n",
       "105382  60350aa974b26ff12caad89e55993bd6                     83750   \n",
       "\n",
       "              customer_city customer_state product_category_name_english  \n",
       "0                 sao paulo             SP                    housewares  \n",
       "1                 sao paulo             SP                    housewares  \n",
       "2                 sao paulo             SP                    housewares  \n",
       "3                 barreiras             BA                     perfumery  \n",
       "4                vianopolis             GO                          auto  \n",
       "...                     ...            ...                           ...  \n",
       "105378  sao jose dos campos             SP                 health_beauty  \n",
       "105379         praia grande             SP                          baby  \n",
       "105380          nova vicosa             BA             home_appliances_2  \n",
       "105381              japuiba             RJ         computers_accessories  \n",
       "105382                 lapa             PR                 health_beauty  \n",
       "\n",
       "[102225 rows x 13 columns]"
      ]
     },
     "execution_count": 28,
     "metadata": {},
     "output_type": "execute_result"
    }
   ],
   "source": [
    "df_filtered"
   ]
  },
  {
   "cell_type": "code",
   "execution_count": 29,
   "id": "b580fee8",
   "metadata": {},
   "outputs": [
    {
     "data": {
      "text/plain": [
       "order_id                            0\n",
       "order_status                        0\n",
       "order_purchase_timestamp            0\n",
       "order_delivered_customer_date       8\n",
       "payment_type                        1\n",
       "payment_installments                1\n",
       "payment_value                       1\n",
       "review_score                        0\n",
       "customer_unique_id                  0\n",
       "customer_zip_code_prefix            0\n",
       "customer_city                       0\n",
       "customer_state                      0\n",
       "product_category_name_english    1511\n",
       "dtype: int64"
      ]
     },
     "execution_count": 29,
     "metadata": {},
     "output_type": "execute_result"
    }
   ],
   "source": [
    "df_filtered.isna().sum()"
   ]
  },
  {
   "cell_type": "code",
   "execution_count": 30,
   "id": "8b7f85aa",
   "metadata": {},
   "outputs": [
    {
     "data": {
      "text/html": [
       "<div>\n",
       "<style scoped>\n",
       "    .dataframe tbody tr th:only-of-type {\n",
       "        vertical-align: middle;\n",
       "    }\n",
       "\n",
       "    .dataframe tbody tr th {\n",
       "        vertical-align: top;\n",
       "    }\n",
       "\n",
       "    .dataframe thead th {\n",
       "        text-align: right;\n",
       "    }\n",
       "</style>\n",
       "<table border=\"1\" class=\"dataframe\">\n",
       "  <thead>\n",
       "    <tr style=\"text-align: right;\">\n",
       "      <th></th>\n",
       "      <th>order_id</th>\n",
       "      <th>order_status</th>\n",
       "      <th>order_purchase_timestamp</th>\n",
       "      <th>order_delivered_customer_date</th>\n",
       "      <th>payment_type</th>\n",
       "      <th>payment_installments</th>\n",
       "      <th>payment_value</th>\n",
       "      <th>review_score</th>\n",
       "      <th>customer_unique_id</th>\n",
       "      <th>customer_zip_code_prefix</th>\n",
       "      <th>customer_city</th>\n",
       "      <th>customer_state</th>\n",
       "      <th>product_category_name_english</th>\n",
       "    </tr>\n",
       "  </thead>\n",
       "  <tbody>\n",
       "    <tr>\n",
       "      <th>0</th>\n",
       "      <td>e481f51cbdc54678b7cc49136f2d6af7</td>\n",
       "      <td>delivered</td>\n",
       "      <td>2017-10-02</td>\n",
       "      <td>2017-10-10</td>\n",
       "      <td>credit_card</td>\n",
       "      <td>1.0</td>\n",
       "      <td>18.12</td>\n",
       "      <td>4</td>\n",
       "      <td>7c396fd4830fd04220f754e42b4e5bff</td>\n",
       "      <td>3149</td>\n",
       "      <td>sao paulo</td>\n",
       "      <td>SP</td>\n",
       "      <td>housewares</td>\n",
       "    </tr>\n",
       "    <tr>\n",
       "      <th>1</th>\n",
       "      <td>e481f51cbdc54678b7cc49136f2d6af7</td>\n",
       "      <td>delivered</td>\n",
       "      <td>2017-10-02</td>\n",
       "      <td>2017-10-10</td>\n",
       "      <td>voucher</td>\n",
       "      <td>1.0</td>\n",
       "      <td>2.00</td>\n",
       "      <td>4</td>\n",
       "      <td>7c396fd4830fd04220f754e42b4e5bff</td>\n",
       "      <td>3149</td>\n",
       "      <td>sao paulo</td>\n",
       "      <td>SP</td>\n",
       "      <td>housewares</td>\n",
       "    </tr>\n",
       "    <tr>\n",
       "      <th>2</th>\n",
       "      <td>e481f51cbdc54678b7cc49136f2d6af7</td>\n",
       "      <td>delivered</td>\n",
       "      <td>2017-10-02</td>\n",
       "      <td>2017-10-10</td>\n",
       "      <td>voucher</td>\n",
       "      <td>1.0</td>\n",
       "      <td>18.59</td>\n",
       "      <td>4</td>\n",
       "      <td>7c396fd4830fd04220f754e42b4e5bff</td>\n",
       "      <td>3149</td>\n",
       "      <td>sao paulo</td>\n",
       "      <td>SP</td>\n",
       "      <td>housewares</td>\n",
       "    </tr>\n",
       "    <tr>\n",
       "      <th>3</th>\n",
       "      <td>53cdb2fc8bc7dce0b6741e2150273451</td>\n",
       "      <td>delivered</td>\n",
       "      <td>2018-07-24</td>\n",
       "      <td>2018-08-07</td>\n",
       "      <td>boleto</td>\n",
       "      <td>1.0</td>\n",
       "      <td>141.46</td>\n",
       "      <td>4</td>\n",
       "      <td>af07308b275d755c9edb36a90c618231</td>\n",
       "      <td>47813</td>\n",
       "      <td>barreiras</td>\n",
       "      <td>BA</td>\n",
       "      <td>perfumery</td>\n",
       "    </tr>\n",
       "    <tr>\n",
       "      <th>4</th>\n",
       "      <td>47770eb9100c2d0c44946d9cf07ec65d</td>\n",
       "      <td>delivered</td>\n",
       "      <td>2018-08-08</td>\n",
       "      <td>2018-08-17</td>\n",
       "      <td>credit_card</td>\n",
       "      <td>3.0</td>\n",
       "      <td>179.12</td>\n",
       "      <td>5</td>\n",
       "      <td>3a653a41f6f9fc3d2a113cf8398680e8</td>\n",
       "      <td>75265</td>\n",
       "      <td>vianopolis</td>\n",
       "      <td>GO</td>\n",
       "      <td>auto</td>\n",
       "    </tr>\n",
       "    <tr>\n",
       "      <th>...</th>\n",
       "      <td>...</td>\n",
       "      <td>...</td>\n",
       "      <td>...</td>\n",
       "      <td>...</td>\n",
       "      <td>...</td>\n",
       "      <td>...</td>\n",
       "      <td>...</td>\n",
       "      <td>...</td>\n",
       "      <td>...</td>\n",
       "      <td>...</td>\n",
       "      <td>...</td>\n",
       "      <td>...</td>\n",
       "      <td>...</td>\n",
       "    </tr>\n",
       "    <tr>\n",
       "      <th>105378</th>\n",
       "      <td>9c5dedf39a927c1b2549525ed64a053c</td>\n",
       "      <td>delivered</td>\n",
       "      <td>2017-03-09</td>\n",
       "      <td>2017-03-17</td>\n",
       "      <td>credit_card</td>\n",
       "      <td>3.0</td>\n",
       "      <td>85.08</td>\n",
       "      <td>5</td>\n",
       "      <td>6359f309b166b0196dbf7ad2ac62bb5a</td>\n",
       "      <td>12209</td>\n",
       "      <td>sao jose dos campos</td>\n",
       "      <td>SP</td>\n",
       "      <td>health_beauty</td>\n",
       "    </tr>\n",
       "    <tr>\n",
       "      <th>105379</th>\n",
       "      <td>63943bddc261676b46f01ca7ac2f7bd8</td>\n",
       "      <td>delivered</td>\n",
       "      <td>2018-02-06</td>\n",
       "      <td>2018-02-28</td>\n",
       "      <td>credit_card</td>\n",
       "      <td>3.0</td>\n",
       "      <td>195.00</td>\n",
       "      <td>4</td>\n",
       "      <td>da62f9e57a76d978d02ab5362c509660</td>\n",
       "      <td>11722</td>\n",
       "      <td>praia grande</td>\n",
       "      <td>SP</td>\n",
       "      <td>baby</td>\n",
       "    </tr>\n",
       "    <tr>\n",
       "      <th>105380</th>\n",
       "      <td>83c1379a015df1e13d02aae0204711ab</td>\n",
       "      <td>delivered</td>\n",
       "      <td>2017-08-27</td>\n",
       "      <td>2017-09-21</td>\n",
       "      <td>credit_card</td>\n",
       "      <td>5.0</td>\n",
       "      <td>271.01</td>\n",
       "      <td>5</td>\n",
       "      <td>737520a9aad80b3fbbdad19b66b37b30</td>\n",
       "      <td>45920</td>\n",
       "      <td>nova vicosa</td>\n",
       "      <td>BA</td>\n",
       "      <td>home_appliances_2</td>\n",
       "    </tr>\n",
       "    <tr>\n",
       "      <th>105381</th>\n",
       "      <td>11c177c8e97725db2631073c19f07b62</td>\n",
       "      <td>delivered</td>\n",
       "      <td>2018-01-08</td>\n",
       "      <td>2018-01-25</td>\n",
       "      <td>credit_card</td>\n",
       "      <td>4.0</td>\n",
       "      <td>441.16</td>\n",
       "      <td>2</td>\n",
       "      <td>5097a5312c8b157bb7be58ae360ef43c</td>\n",
       "      <td>28685</td>\n",
       "      <td>japuiba</td>\n",
       "      <td>RJ</td>\n",
       "      <td>computers_accessories</td>\n",
       "    </tr>\n",
       "    <tr>\n",
       "      <th>105382</th>\n",
       "      <td>66dea50a8b16d9b4dee7af250b4be1a5</td>\n",
       "      <td>delivered</td>\n",
       "      <td>2018-03-08</td>\n",
       "      <td>2018-03-16</td>\n",
       "      <td>debit_card</td>\n",
       "      <td>1.0</td>\n",
       "      <td>86.86</td>\n",
       "      <td>5</td>\n",
       "      <td>60350aa974b26ff12caad89e55993bd6</td>\n",
       "      <td>83750</td>\n",
       "      <td>lapa</td>\n",
       "      <td>PR</td>\n",
       "      <td>health_beauty</td>\n",
       "    </tr>\n",
       "  </tbody>\n",
       "</table>\n",
       "<p>102225 rows × 13 columns</p>\n",
       "</div>"
      ],
      "text/plain": [
       "                                order_id order_status  \\\n",
       "0       e481f51cbdc54678b7cc49136f2d6af7    delivered   \n",
       "1       e481f51cbdc54678b7cc49136f2d6af7    delivered   \n",
       "2       e481f51cbdc54678b7cc49136f2d6af7    delivered   \n",
       "3       53cdb2fc8bc7dce0b6741e2150273451    delivered   \n",
       "4       47770eb9100c2d0c44946d9cf07ec65d    delivered   \n",
       "...                                  ...          ...   \n",
       "105378  9c5dedf39a927c1b2549525ed64a053c    delivered   \n",
       "105379  63943bddc261676b46f01ca7ac2f7bd8    delivered   \n",
       "105380  83c1379a015df1e13d02aae0204711ab    delivered   \n",
       "105381  11c177c8e97725db2631073c19f07b62    delivered   \n",
       "105382  66dea50a8b16d9b4dee7af250b4be1a5    delivered   \n",
       "\n",
       "       order_purchase_timestamp order_delivered_customer_date payment_type  \\\n",
       "0                    2017-10-02                    2017-10-10  credit_card   \n",
       "1                    2017-10-02                    2017-10-10      voucher   \n",
       "2                    2017-10-02                    2017-10-10      voucher   \n",
       "3                    2018-07-24                    2018-08-07       boleto   \n",
       "4                    2018-08-08                    2018-08-17  credit_card   \n",
       "...                         ...                           ...          ...   \n",
       "105378               2017-03-09                    2017-03-17  credit_card   \n",
       "105379               2018-02-06                    2018-02-28  credit_card   \n",
       "105380               2017-08-27                    2017-09-21  credit_card   \n",
       "105381               2018-01-08                    2018-01-25  credit_card   \n",
       "105382               2018-03-08                    2018-03-16   debit_card   \n",
       "\n",
       "        payment_installments  payment_value  review_score  \\\n",
       "0                        1.0          18.12             4   \n",
       "1                        1.0           2.00             4   \n",
       "2                        1.0          18.59             4   \n",
       "3                        1.0         141.46             4   \n",
       "4                        3.0         179.12             5   \n",
       "...                      ...            ...           ...   \n",
       "105378                   3.0          85.08             5   \n",
       "105379                   3.0         195.00             4   \n",
       "105380                   5.0         271.01             5   \n",
       "105381                   4.0         441.16             2   \n",
       "105382                   1.0          86.86             5   \n",
       "\n",
       "                      customer_unique_id  customer_zip_code_prefix  \\\n",
       "0       7c396fd4830fd04220f754e42b4e5bff                      3149   \n",
       "1       7c396fd4830fd04220f754e42b4e5bff                      3149   \n",
       "2       7c396fd4830fd04220f754e42b4e5bff                      3149   \n",
       "3       af07308b275d755c9edb36a90c618231                     47813   \n",
       "4       3a653a41f6f9fc3d2a113cf8398680e8                     75265   \n",
       "...                                  ...                       ...   \n",
       "105378  6359f309b166b0196dbf7ad2ac62bb5a                     12209   \n",
       "105379  da62f9e57a76d978d02ab5362c509660                     11722   \n",
       "105380  737520a9aad80b3fbbdad19b66b37b30                     45920   \n",
       "105381  5097a5312c8b157bb7be58ae360ef43c                     28685   \n",
       "105382  60350aa974b26ff12caad89e55993bd6                     83750   \n",
       "\n",
       "              customer_city customer_state product_category_name_english  \n",
       "0                 sao paulo             SP                    housewares  \n",
       "1                 sao paulo             SP                    housewares  \n",
       "2                 sao paulo             SP                    housewares  \n",
       "3                 barreiras             BA                     perfumery  \n",
       "4                vianopolis             GO                          auto  \n",
       "...                     ...            ...                           ...  \n",
       "105378  sao jose dos campos             SP                 health_beauty  \n",
       "105379         praia grande             SP                          baby  \n",
       "105380          nova vicosa             BA             home_appliances_2  \n",
       "105381              japuiba             RJ         computers_accessories  \n",
       "105382                 lapa             PR                 health_beauty  \n",
       "\n",
       "[102225 rows x 13 columns]"
      ]
     },
     "execution_count": 30,
     "metadata": {},
     "output_type": "execute_result"
    }
   ],
   "source": [
    "df_filtered"
   ]
  },
  {
   "cell_type": "markdown",
   "id": "0135726e",
   "metadata": {
    "id": "ee08d779"
   },
   "source": [
    "❓ Quelles colonnes conserveriez-vous dans ce jeu de données?"
   ]
  },
  {
   "cell_type": "code",
   "execution_count": null,
   "id": "48766b4b",
   "metadata": {
    "id": "8961a988"
   },
   "outputs": [],
   "source": []
  },
  {
   "cell_type": "markdown",
   "id": "efffeb99",
   "metadata": {},
   "source": [
    "# Visualisation de données"
   ]
  },
  {
   "cell_type": "markdown",
   "id": "471dc82a",
   "metadata": {},
   "source": [
    "Import des bibliothèques seaborn et matplotlib.  \n",
    "Documentation [Matplotlib](https://matplotlib.org/stable/gallery/index.html)  \n",
    "Documentation [Seaborn](https://seaborn.pydata.org/examples/index.html)"
   ]
  },
  {
   "cell_type": "code",
   "execution_count": null,
   "id": "55edb697",
   "metadata": {},
   "outputs": [],
   "source": []
  },
  {
   "cell_type": "markdown",
   "id": "1dd013fd",
   "metadata": {},
   "source": [
    "❓ Visualisez le nombre de commande par type de paiement. Quel graphique vous semble le plus adapté pour représenter cela?"
   ]
  },
  {
   "cell_type": "code",
   "execution_count": null,
   "id": "7e370c11",
   "metadata": {},
   "outputs": [],
   "source": []
  },
  {
   "cell_type": "markdown",
   "id": "c33ec37d",
   "metadata": {},
   "source": [
    "❓ Quel est le montant moyen dépensé par catégorie de produit? Représentez cette information avec 2 graphiques différents."
   ]
  },
  {
   "cell_type": "code",
   "execution_count": null,
   "id": "07f3ce36",
   "metadata": {},
   "outputs": [],
   "source": []
  },
  {
   "cell_type": "markdown",
   "id": "bb0235a8",
   "metadata": {},
   "source": [
    "❓ Quelle est la répartition, via un diagramme en secteur, des reviews clients?"
   ]
  },
  {
   "cell_type": "code",
   "execution_count": null,
   "id": "257780f0",
   "metadata": {},
   "outputs": [],
   "source": []
  },
  {
   "cell_type": "markdown",
   "id": "bdf9803d",
   "metadata": {},
   "source": [
    "❓ Combien de client a-t-on par State?"
   ]
  },
  {
   "cell_type": "code",
   "execution_count": null,
   "id": "8d319309",
   "metadata": {},
   "outputs": [],
   "source": []
  },
  {
   "cell_type": "markdown",
   "id": "53446901",
   "metadata": {
    "id": "e34741c0"
   },
   "source": [
    "# Comprendre la segmentation RFM "
   ]
  },
  {
   "cell_type": "markdown",
   "id": "47acf2de",
   "metadata": {
    "ExecuteTime": {
     "end_time": "2021-09-30T14:30:02.324575Z",
     "start_time": "2021-09-30T14:30:02.319234Z"
    },
    "id": "fe5120cd"
   },
   "source": [
    "❓ Quelles sont les 3 métriques utilisées pour la segmentation RFM ?"
   ]
  },
  {
   "cell_type": "code",
   "execution_count": null,
   "id": "c52a9bd9",
   "metadata": {},
   "outputs": [],
   "source": []
  },
  {
   "cell_type": "markdown",
   "id": "35a2518d",
   "metadata": {
    "id": "f556245c"
   },
   "source": [
    "❓ Pouvez-vous synthétiser ce que mesure chacune de ces métriques?"
   ]
  },
  {
   "cell_type": "code",
   "execution_count": null,
   "id": "c8f0280f",
   "metadata": {},
   "outputs": [],
   "source": []
  },
  {
   "cell_type": "markdown",
   "id": "4cde9e0e",
   "metadata": {
    "id": "98be1bfe"
   },
   "source": [
    "❓ Quelles données ou type de données avez-vous besoin pour construire chacune de ces métriques?"
   ]
  },
  {
   "cell_type": "code",
   "execution_count": null,
   "id": "e73eb635",
   "metadata": {},
   "outputs": [],
   "source": []
  },
  {
   "cell_type": "markdown",
   "id": "26dbf967",
   "metadata": {},
   "source": [
    "# Manipulation de données"
   ]
  },
  {
   "cell_type": "markdown",
   "id": "10308767",
   "metadata": {},
   "source": [
    "Nous allons inspecter nos données afin de mieux les comprendre.  \n",
    "Filtrez sur l'id client : 7c396fd4830fd04220f754e42b4e5bff et observez le nombre de commandes, les produits commandés, le montant total dépensé, ..."
   ]
  },
  {
   "cell_type": "code",
   "execution_count": null,
   "id": "826c5d16",
   "metadata": {},
   "outputs": [],
   "source": []
  },
  {
   "cell_type": "markdown",
   "id": "ca6f5e73",
   "metadata": {
    "id": "15ef2508"
   },
   "source": [
    "❓ Quelle fonction Python utiliseriez-vous pour grouper les données?"
   ]
  },
  {
   "cell_type": "code",
   "execution_count": null,
   "id": "5d1c2049",
   "metadata": {
    "id": "088b9274"
   },
   "outputs": [],
   "source": []
  },
  {
   "cell_type": "markdown",
   "id": "3a2c9a47",
   "metadata": {
    "id": "88b13787"
   },
   "source": [
    "❓ Notre finalité est de travailler sur la segmentation client. Regardez quelle est la finalité de la segmentation client. Sur quelle feature (colonne) grouperiez-vous les données? "
   ]
  },
  {
   "cell_type": "code",
   "execution_count": null,
   "id": "8aacec1a",
   "metadata": {
    "id": "ebcf4a86"
   },
   "outputs": [],
   "source": []
  },
  {
   "cell_type": "markdown",
   "id": "ac9f5f1d",
   "metadata": {},
   "source": [
    "Nous allons donc créer un tableau qui aura la forme suivante :\n",
    "\n",
    "| id_client | Indicateur 1 | Indicateur 2 |  \n",
    "|:---------:|--------------|--------------|  \n",
    "| 1         |              |              |  \n",
    "| 2         |              |              |  \n",
    "| 3         |              |              |  \n",
    "| ...       |              |              |  "
   ]
  },
  {
   "cell_type": "markdown",
   "id": "f2bb19fc",
   "metadata": {},
   "source": [
    "❓ A votre avis, comment allez-vous calculer le F ? "
   ]
  },
  {
   "cell_type": "code",
   "execution_count": null,
   "id": "aa841b09",
   "metadata": {},
   "outputs": [],
   "source": []
  },
  {
   "cell_type": "markdown",
   "id": "8580bfb4",
   "metadata": {},
   "source": [
    "❓ A votre avis, comment allez-vous calculer le M?"
   ]
  },
  {
   "cell_type": "code",
   "execution_count": null,
   "id": "368102f2",
   "metadata": {},
   "outputs": [],
   "source": []
  },
  {
   "cell_type": "markdown",
   "id": "eb3bd56b",
   "metadata": {},
   "source": [
    "Effectuez le groupement des données en tenant compte des questions précédentes. "
   ]
  },
  {
   "cell_type": "code",
   "execution_count": null,
   "id": "8d5b9692",
   "metadata": {},
   "outputs": [],
   "source": []
  },
  {
   "cell_type": "markdown",
   "id": "e5b5c6ab",
   "metadata": {
    "id": "41ade656"
   },
   "source": [
    "❓ Quel type de données être le R? Est-ce le bon format? (Indice : investiguer la différence entre `datetime` et `timedelta`) "
   ]
  },
  {
   "cell_type": "code",
   "execution_count": null,
   "id": "f4f0d56a",
   "metadata": {
    "id": "2c358114"
   },
   "outputs": [],
   "source": []
  },
  {
   "cell_type": "markdown",
   "id": "1e4cb20d",
   "metadata": {
    "ExecuteTime": {
     "end_time": "2021-09-30T14:45:48.656723Z",
     "start_time": "2021-09-30T14:45:48.652125Z"
    },
    "id": "3e6e7dd2"
   },
   "source": [
    "Groupez les données (indices : vous pouvez grouper les données une par une puis jointer les dataser, ou mieux, utilisez la méthode .agg et obtenir une méthode de groupement plus robuste)."
   ]
  },
  {
   "cell_type": "code",
   "execution_count": null,
   "id": "d9ca24a4",
   "metadata": {
    "id": "7c9ddc4c"
   },
   "outputs": [],
   "source": []
  },
  {
   "cell_type": "markdown",
   "id": "190325de",
   "metadata": {
    "ExecuteTime": {
     "end_time": "2021-09-30T17:12:07.784903Z",
     "start_time": "2021-09-30T17:12:07.774134Z"
    },
    "id": "e9412e54"
   },
   "source": [
    "Il y a donc une étape supplémentaire à produire : calculer notre R."
   ]
  },
  {
   "cell_type": "markdown",
   "id": "a0559450",
   "metadata": {
    "id": "1d5c27fa"
   },
   "source": [
    "❓ Quelle est la date de dernier achat du jeu de données?"
   ]
  },
  {
   "cell_type": "code",
   "execution_count": null,
   "id": "4cfa755f",
   "metadata": {
    "id": "7a483e98"
   },
   "outputs": [],
   "source": []
  },
  {
   "cell_type": "markdown",
   "id": "bdc60fca",
   "metadata": {
    "ExecuteTime": {
     "end_time": "2021-09-30T17:14:26.599702Z",
     "start_time": "2021-09-30T17:14:26.592777Z"
    },
    "id": "2d623bbb"
   },
   "source": [
    "❓Quel est la date de l'achat le plus récent?"
   ]
  },
  {
   "cell_type": "code",
   "execution_count": null,
   "id": "5dbc427d",
   "metadata": {
    "id": "4afe4d58"
   },
   "outputs": [],
   "source": []
  },
  {
   "cell_type": "markdown",
   "id": "bfbc8b11",
   "metadata": {
    "id": "4c54092d"
   },
   "source": [
    "❓Comment calculeriez-vous la récence? "
   ]
  },
  {
   "cell_type": "code",
   "execution_count": null,
   "id": "8ac115a4",
   "metadata": {
    "id": "537c40bb"
   },
   "outputs": [],
   "source": []
  },
  {
   "cell_type": "markdown",
   "id": "49f6565e",
   "metadata": {
    "id": "f6705b2f"
   },
   "source": [
    "Créez une colonne qui permet de calculer la différence entre `the most recent purchased + 1 day` et `order_purchase_timestamp`."
   ]
  },
  {
   "cell_type": "code",
   "execution_count": null,
   "id": "da15b5ea",
   "metadata": {
    "id": "881822f2"
   },
   "outputs": [],
   "source": []
  },
  {
   "cell_type": "markdown",
   "id": "632576c8",
   "metadata": {
    "id": "258ca32b"
   },
   "source": [
    "Maintenant que le nouveau dataset a été créé, explorons le nouveau jeu de données."
   ]
  },
  {
   "cell_type": "markdown",
   "id": "f4b39a2c",
   "metadata": {
    "id": "813d87c9"
   },
   "source": [
    "❓Quelle colonne est le R? Le F? Le M?"
   ]
  },
  {
   "cell_type": "code",
   "execution_count": null,
   "id": "9b4d5b39",
   "metadata": {
    "id": "b7385417"
   },
   "outputs": [],
   "source": []
  },
  {
   "cell_type": "markdown",
   "id": "80a4929d",
   "metadata": {},
   "source": [
    "Enregistrer votre nouveau dataset dans un fichier csv sur votre poste de travail."
   ]
  },
  {
   "cell_type": "code",
   "execution_count": null,
   "id": "28dd842b",
   "metadata": {},
   "outputs": [],
   "source": []
  },
  {
   "cell_type": "markdown",
   "id": "88a7d55e",
   "metadata": {},
   "source": [
    "# Analyse du jeu de données finalisé"
   ]
  },
  {
   "cell_type": "markdown",
   "id": "66841979",
   "metadata": {},
   "source": [
    "Maintenant que nous avons groupé notre dataset, puis bien typé les différentes features, analyser ce jeu de données afin de produire des informations sur cette cohorte pour mieux la cerner au global.  \n",
    "Pour cela, vous pouvez réaliser les calculs, graphiques ou manipulation que vous souhaitez."
   ]
  },
  {
   "cell_type": "code",
   "execution_count": null,
   "id": "bad973be",
   "metadata": {},
   "outputs": [],
   "source": []
  },
  {
   "cell_type": "code",
   "execution_count": null,
   "id": "3fef61c4",
   "metadata": {},
   "outputs": [],
   "source": []
  },
  {
   "cell_type": "code",
   "execution_count": null,
   "id": "5e211c87",
   "metadata": {},
   "outputs": [],
   "source": []
  },
  {
   "cell_type": "code",
   "execution_count": null,
   "id": "c4dc053d",
   "metadata": {},
   "outputs": [],
   "source": []
  },
  {
   "cell_type": "code",
   "execution_count": null,
   "id": "e196adcc",
   "metadata": {},
   "outputs": [],
   "source": []
  },
  {
   "cell_type": "code",
   "execution_count": null,
   "id": "47dc8258",
   "metadata": {},
   "outputs": [],
   "source": []
  },
  {
   "cell_type": "code",
   "execution_count": null,
   "id": "a178d3ad",
   "metadata": {},
   "outputs": [],
   "source": []
  }
 ],
 "metadata": {
  "colab": {
   "name": "01_Discovering_RFM_ecommerce.ipynb",
   "provenance": []
  },
  "hide_input": false,
  "kernelspec": {
   "display_name": "st",
   "language": "python",
   "name": "python3"
  },
  "language_info": {
   "codemirror_mode": {
    "name": "ipython",
    "version": 3
   },
   "file_extension": ".py",
   "mimetype": "text/x-python",
   "name": "python",
   "nbconvert_exporter": "python",
   "pygments_lexer": "ipython3",
   "version": "3.12.4"
  },
  "toc": {
   "base_numbering": 1,
   "nav_menu": {},
   "number_sections": true,
   "sideBar": true,
   "skip_h1_title": false,
   "title_cell": "Table of Contents",
   "title_sidebar": "Contents",
   "toc_cell": false,
   "toc_position": {},
   "toc_section_display": true,
   "toc_window_display": false
  },
  "varInspector": {
   "cols": {
    "lenName": 16,
    "lenType": 16,
    "lenVar": 40
   },
   "kernels_config": {
    "python": {
     "delete_cmd_postfix": "",
     "delete_cmd_prefix": "del ",
     "library": "var_list.py",
     "varRefreshCmd": "print(var_dic_list())"
    },
    "r": {
     "delete_cmd_postfix": ") ",
     "delete_cmd_prefix": "rm(",
     "library": "var_list.r",
     "varRefreshCmd": "cat(var_dic_list()) "
    }
   },
   "types_to_exclude": [
    "module",
    "function",
    "builtin_function_or_method",
    "instance",
    "_Feature"
   ],
   "window_display": false
  }
 },
 "nbformat": 4,
 "nbformat_minor": 5
}
