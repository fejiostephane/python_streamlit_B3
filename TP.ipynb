{
 "cells": [
  {
   "cell_type": "markdown",
   "id": "dd2adc7f",
   "metadata": {},
   "source": [
    "<b>Durée estimée :</b> 60 à 90 minutes\n",
    "\n",
    "L'objectif principal est d'automatiser votre script. Cela signifie que lorsque quelqu'un exécute votre script, il/elle doit être en mesure d'afficher directement votre résultat. <b>!!!UTILISEZ UNIQUEMENT PYTHON!!!</b>\n",
    "\n",
    "<b>Objectifs :</b>\n",
    "- Comprendre comment travailler avec des fichiers JSON en Python.\n",
    "\n",
    "- Apprendre à importer, manipuler et modifier un fichier JSON.\n",
    "\n",
    "- Créer un script Python (.py) pour effectuer ces manipulations.\n",
    "\n",
    "- Télécharger ce script sur GitHub.\n"
   ]
  },
  {
   "cell_type": "markdown",
   "id": "ca6a377c",
   "metadata": {},
   "source": [
    "Le format JSON (JavaScript Object Notation) est un format de données très utilisé pour l'échange de données. Avec Python, nous pouvons facilement importer et manipuler des fichiers JSON à l'aide de la bibliothèque json.\n",
    "\n",
    "Vous devrez réaliser une série de tâches qui consistent à importer un fichier JSON, en extraire et manipuler des informations, puis les modifier."
   ]
  },
  {
   "cell_type": "markdown",
   "id": "772ec8f4",
   "metadata": {},
   "source": [
    "<b>Importation d'un fichier JSON</b>\n",
    "\n",
    "Téléchargez un fichier JSON de votre choix. Vous pouvez utiliser un lien URL pour obtenir le fichier JSON directement dans votre script Python. Par exemple, vous pouvez télécharger un fichier JSON depuis un lien en utilisant la bibliothèque \"requests\".\n",
    "\n",
    "Exemple de téléchargement et d'importation d'un fichier JSON à partir d'un lien :\n"
   ]
  },
  {
   "cell_type": "code",
   "execution_count": null,
   "id": "24f92aff",
   "metadata": {},
   "outputs": [],
   "source": [
    "import json\n",
    "import requests\n",
    "\n",
    "# URL du fichier JSON\n",
    "url = 'https://jsonplaceholder.typicode.com/users'\n",
    "\n",
    "# Télécharger le fichier JSON\n",
    "response = requests.get(url)\n",
    "\n",
    "# Vérifier que la requête a réussi (code 200)\n",
    "if response.status_code == 200:\n",
    "    data = response.json()  # Charger le contenu JSON dans une variable Python\n",
    "    print(data)  # Afficher les données\n",
    "else:\n",
    "    print(\"Erreur de téléchargement du fichier JSON.\")\n"
   ]
  },
  {
   "cell_type": "markdown",
   "id": "6ac31b27",
   "metadata": {},
   "source": [
    "Utilisez le fichier JSON que vous avez téléchargé pour effectuer les tâches suivantes. Assurez-vous que le fichier est correctement chargé dans la variable data avant de passer à la suite."
   ]
  },
  {
   "cell_type": "markdown",
   "id": "fd91f651",
   "metadata": {},
   "source": [
    "<b>Recherche d'une information spécifique dans le fichier JSON</b>\n",
    "\n",
    "Une fois que vous avez chargé le fichier JSON dans une variable Python, vous devez rechercher une information spécifique dans ce fichier. Par exemple, si votre fichier JSON contient des informations sur des utilisateurs, recherchez un utilisateur spécifique en utilisant un critère de recherche, comme l'identifiant ou le nom.\n",
    "\n",
    "Exemple :"
   ]
  },
  {
   "cell_type": "code",
   "execution_count": null,
   "id": "9ef4063c",
   "metadata": {},
   "outputs": [],
   "source": [
    "# Supposons que 'data' est une liste d'objets représentant des utilisateurs\n",
    "for utilisateur in data:\n",
    "    if utilisateur[\"id\"] == 1:\n",
    "        print(utilisateur)\n",
    "        break\n"
   ]
  },
  {
   "cell_type": "markdown",
   "id": "c2d2db45",
   "metadata": {},
   "source": [
    "<b>Modification de données dans le fichier JSON</b>\n",
    "\n",
    "Par exemple, vous pouvez ajouter un nouvel utilisateur ou mettre à jour des informations existantes. Voici comment vous pouvez ajouter un élément à une liste dans le fichier JSON :\n",
    "\n"
   ]
  },
  {
   "cell_type": "code",
   "execution_count": null,
   "id": "f5702390",
   "metadata": {},
   "outputs": [],
   "source": [
    "# Ajouter un utilisateur\n",
    "nouvel_utilisateur = {\n",
    "    \"id\": 11,\n",
    "    \"nom\": \"Dupont\",\n",
    "    \"age\": 25\n",
    "}\n",
    "data.append(nouvel_utilisateur)\n"
   ]
  },
  {
   "cell_type": "markdown",
   "id": "7a73511b",
   "metadata": {},
   "source": [
    "<b>Suppression d'un élément du fichier JSON </b>\n",
    "\n",
    "Par exemple, vous pouvez supprimer un utilisateur dont l'id est 5 :"
   ]
  },
  {
   "cell_type": "code",
   "execution_count": null,
   "id": "c53612c8",
   "metadata": {},
   "outputs": [],
   "source": [
    "# Supprimer un utilisateur\n",
    "data = [utilisateur for utilisateur in data if utilisateur[\"id\"] != 5]"
   ]
  },
  {
   "cell_type": "markdown",
   "id": "6c97cdcf",
   "metadata": {},
   "source": [
    "<b>Sauvegarde des données modifiées</b>\n",
    "\n",
    "Une fois que vous avez modifié le fichier JSON, vous devez sauvegarder les changements dans un nouveau fichier. Utilisez la méthode json.dump() pour écrire les données modifiées dans un fichier :"
   ]
  },
  {
   "cell_type": "code",
   "execution_count": null,
   "id": "753c5732",
   "metadata": {},
   "outputs": [],
   "source": [
    "with open('fichier_modifie.json', 'w') as file:\n",
    "    json.dump(data, file, indent=4)\n"
   ]
  },
  {
   "cell_type": "markdown",
   "id": "307036a4",
   "metadata": {},
   "source": [
    "<b>Création d’un script Python (.py)</b>\n",
    "\n",
    "Regroupez toutes les étapes précédentes dans un seul script Python. Ce script doit inclure :\n",
    "\n",
    "- L'importation du fichier JSON.\n",
    "- La recherche d'une information spécifique.\n",
    "- La modification des données.\n",
    "- La sauvegarde dans un fichier JSON modifié.\n",
    "- Sauvegardez ce script sous un fichier nommé manipulation_json.py."
   ]
  },
  {
   "cell_type": "markdown",
   "id": "1b11ca6e",
   "metadata": {},
   "source": [
    "Téléchargez du script sur GitHub en utilisant <b>PYTHON</b> et non pas à partir du terminal ou de l'interface."
   ]
  },
  {
   "cell_type": "markdown",
   "id": "b231a292",
   "metadata": {},
   "source": [
    "<b>Facultatif</b>"
   ]
  },
  {
   "cell_type": "markdown",
   "id": "762c61de",
   "metadata": {},
   "source": [
    "Pour le projet précédent que vous avez réalisé pendant le cours, vous pouvez faire une recherche sur la façon de déployer votre script et le déployer via Streamlit."
   ]
  },
  {
   "cell_type": "code",
   "execution_count": null,
   "id": "78baa5ba",
   "metadata": {},
   "outputs": [],
   "source": []
  }
 ],
 "metadata": {
  "kernelspec": {
   "display_name": "Python 3",
   "language": "python",
   "name": "python3"
  },
  "language_info": {
   "codemirror_mode": {
    "name": "ipython",
    "version": 3
   },
   "file_extension": ".py",
   "mimetype": "text/x-python",
   "name": "python",
   "nbconvert_exporter": "python",
   "pygments_lexer": "ipython3",
   "version": "3.9.16"
  },
  "toc": {
   "base_numbering": 1,
   "nav_menu": {},
   "number_sections": true,
   "sideBar": true,
   "skip_h1_title": false,
   "title_cell": "Table of Contents",
   "title_sidebar": "Contents",
   "toc_cell": false,
   "toc_position": {},
   "toc_section_display": true,
   "toc_window_display": false
  }
 },
 "nbformat": 4,
 "nbformat_minor": 5
}
